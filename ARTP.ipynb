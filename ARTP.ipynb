{
 "cells": [
  {
   "cell_type": "code",
   "execution_count": 2,
   "metadata": {},
   "outputs": [],
   "source": [
    "import requests\n",
    "from bs4 import BeautifulSoup"
   ]
  },
  {
   "cell_type": "code",
   "execution_count": 3,
   "metadata": {},
   "outputs": [],
   "source": [
    "import numpy as np\n",
    "import pandas as pd\n",
    "import matplotlib.pyplot as plt"
   ]
  },
  {
   "cell_type": "code",
   "execution_count": 256,
   "metadata": {},
   "outputs": [],
   "source": [
    "url='https://www.rottentomatoes.com/m/The_Empty_Man'\n",
    "r=requests.get(url)\n",
    "soup=BeautifulSoup(r.content, 'lxml')"
   ]
  },
  {
   "cell_type": "code",
   "execution_count": 257,
   "metadata": {},
   "outputs": [
    {
     "data": {
      "text/plain": [
       "'The Empty Man'"
      ]
     },
     "execution_count": 257,
     "metadata": {},
     "output_type": "execute_result"
    }
   ],
   "source": [
    "title=soup.find(class_='mop-ratings-wrap__title mop-ratings-wrap__title--top').contents[0]\n",
    "title"
   ]
  },
  {
   "cell_type": "code",
   "execution_count": 269,
   "metadata": {},
   "outputs": [
    {
     "data": {
      "text/plain": [
       "'24'"
      ]
     },
     "execution_count": 269,
     "metadata": {},
     "output_type": "execute_result"
    }
   ],
   "source": [
    "\n",
    "#rate=soup.find(class_='mop-ratings-wrap__text--small').contents[2]#[:-len('\\n        ')]\n",
    "\n",
    "ratediv=soup.find(class_='mop-ratings-wrap__half audience-score')\n",
    "rate=ratediv.find(class_='mop-ratings-wrap__text--small').contents[0]\n",
    "rate=rate.split(': ')\n",
    "rate=rate[1]\n",
    "rate\n"
   ]
  },
  {
   "cell_type": "code",
   "execution_count": 71,
   "metadata": {},
   "outputs": [
    {
     "data": {
      "text/plain": [
       "['crime', 'mystery and thriller', 'drama']"
      ]
     },
     "execution_count": 71,
     "metadata": {},
     "output_type": "execute_result"
    }
   ],
   "source": [
    "genre_list=soup.find(class_='meta-value genre').contents[0].split(',')\n",
    "genre=[]\n",
    "for g in genre_list:\n",
    "    genre.append(g.strip('\\n '))\n",
    "genre"
   ]
  },
  {
   "cell_type": "code",
   "execution_count": 105,
   "metadata": {},
   "outputs": [
    {
     "data": {
      "text/plain": [
       "['Red Entertainment', 'goPOP Films']"
      ]
     },
     "execution_count": 105,
     "metadata": {},
     "output_type": "execute_result"
    }
   ],
   "source": [
    "div=soup.find(class_='content-meta info')\n",
    "divs=div.find_all(class_='meta-value')\n",
    "l=[]\n",
    "for c in divs:\n",
    "    l=(c.contents[0].split(','))\n",
    "production=[]\n",
    "for i in l:\n",
    "    production.append(i.strip('\\n '))\n",
    "production    "
   ]
  },
  {
   "cell_type": "code",
   "execution_count": 107,
   "metadata": {},
   "outputs": [
    {
     "data": {
      "text/plain": [
       "'Sep 25, 2020'"
      ]
     },
     "execution_count": 107,
     "metadata": {},
     "output_type": "execute_result"
    }
   ],
   "source": [
    "datetime=div.time.get_text().strip('\\n ')\n",
    "datetime"
   ]
  },
  {
   "cell_type": "code",
   "execution_count": 113,
   "metadata": {},
   "outputs": [
    {
     "data": {
      "text/plain": [
       "['Carla Hay', 'Jennie Kermode', 'Bobby LePire']"
      ]
     },
     "execution_count": 113,
     "metadata": {},
     "output_type": "execute_result"
    }
   ],
   "source": [
    "review=soup.find_all(class_='unstyled articleLink fgm')\n",
    "review_media=[]\n",
    "for r in review:\n",
    "    review_media.append(r.contents[0])\n",
    "review_media"
   ]
  },
  {
   "cell_type": "code",
   "execution_count": null,
   "metadata": {},
   "outputs": [],
   "source": []
  }
 ],
 "metadata": {
  "kernelspec": {
   "display_name": "Python 3",
   "language": "python",
   "name": "python3"
  },
  "language_info": {
   "codemirror_mode": {
    "name": "ipython",
    "version": 3
   },
   "file_extension": ".py",
   "mimetype": "text/x-python",
   "name": "python",
   "nbconvert_exporter": "python",
   "pygments_lexer": "ipython3",
   "version": "3.7.3"
  }
 },
 "nbformat": 4,
 "nbformat_minor": 2
}
